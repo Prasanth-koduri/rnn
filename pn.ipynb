{
 "cells": [
  {
   "cell_type": "code",
   "execution_count": 1,
   "metadata": {},
   "outputs": [],
   "source": [
    "#this file is for designing model\n",
    "import pandas as pd\n",
    "import numpy as np\n",
    "from sklearn.model_selection import train_test_split\n",
    "import matplotlib.pyplot as plt\n",
    "import tensorflow as tf\n",
    "from tensorflow.keras.preprocessing.text import Tokenizer\n",
    "from tensorflow.keras.preprocessing.sequence import pad_sequences"
   ]
  },
  {
   "cell_type": "code",
   "execution_count": 2,
   "metadata": {},
   "outputs": [],
   "source": [
    "#preprocessing\n",
    "def preprocessing(*args):\n",
    "   \n",
    "    train=pd.read_csv(\"PN.csv\")\n",
    "    train['sentiment']=train['sentiment'].replace(('positive','negative'), (1,0))\n",
    "    train=train.to_numpy()\n",
    "    np.random.seed(42)\n",
    "    np.random.shuffle(train)\n",
    "    test=pd.read_csv(\"PNtest.csv\")\n",
    "    test['sentiment']=test['sentiment'].replace(('Satisfied','Dissatisfied'), (1,0))\n",
    "    test=test.to_numpy()\n",
    "    np.random.seed(42)\n",
    "    np.random.shuffle(test)\n",
    "    train_X=train[:,0]\n",
    "    train_Y=train[:,1]\n",
    "    test_X=test[:,0]\n",
    "    test_Y=test[:,1]\n",
    "    test_Y=tf.convert_to_tensor(test_Y,dtype=tf.float32)\n",
    "    train_Y=tf.convert_to_tensor(train_Y,dtype=tf.float32)\n",
    "    \n",
    "    \n",
    "    #Tokenization\n",
    "    embedding_dim = 150\n",
    "    max_length = 200\n",
    "    trunc_type='post'\n",
    "    padding_type='post'\n",
    "    oov_tok = \"<OOV>\"\n",
    "    tokenizer=Tokenizer()\n",
    "    tokenizer.fit_on_texts(train_X)\n",
    "    word_index=tokenizer.word_index\n",
    "    vocab_size=len(word_index)\n",
    "    train_sequences=tokenizer.texts_to_sequences(train_X)\n",
    "    train_padded=pad_sequences(train_sequences,maxlen=max_length,padding=padding_type,truncating=trunc_type)\n",
    "\n",
    "    test_sequences=tokenizer.texts_to_sequences(test_X)\n",
    "    test_padded=pad_sequences(test_sequences,maxlen=max_length,padding=padding_type,truncating=trunc_type)\n",
    "    \n",
    "    \n",
    "    if args !=None :\n",
    "        for ar in args:\n",
    "            model = tf.keras.models.load_model('model1.h5')\n",
    "            ar=np.array([ar])\n",
    "            ar=test_sequences=tokenizer.texts_to_sequences(ar)\n",
    "            ar=pad_sequences(ar,maxlen=max_length,padding=padding_type,truncating=trunc_type)\n",
    "            print(model.predict(ar))\n",
    "            print(\"negative\")\n",
    "    return embedding_dim,max_length,trunc_type,padding_type,vocab_size,word_index,train_padded,test_padded,train_Y,test_Y"
   ]
  },
  {
   "cell_type": "code",
   "execution_count": 3,
   "metadata": {},
   "outputs": [],
   "source": [
    "#model\n",
    "def model(vocab_size,embedding_dim,max_length,train_padded,test_padded,train_Y,test_Y):\n",
    "    model=tf.keras.Sequential([\n",
    "        tf.keras.layers.Embedding((vocab_size+1),embedding_dim,input_length=max_length),\n",
    "        tf.keras.layers.Bidirectional(tf.keras.layers.LSTM(128,dropout=0.2)),\n",
    "        tf.keras.layers.Dense(64, activation='relu'),\n",
    "        tf.keras.layers.Dense(1, activation='sigmoid')\n",
    "     ])\n",
    "    model.compile(loss='binary_crossentropy',optimizer='adam',metrics=['accuracy'])\n",
    "    num_epochs=5\n",
    "    history=model.fit([train_padded],train_Y,epochs=num_epochs,validation_data=([test_padded],test_Y),verbose=1)\n",
    "    model=model.save(\"model1.h5\")\n",
    "    print(\"model saved succesfully\")\n",
    "    return history"
   ]
  },
  {
   "cell_type": "code",
   "execution_count": 4,
   "metadata": {},
   "outputs": [],
   "source": [
    "#graph plot\n",
    "def plot(history):\n",
    "    plt.plot(history.history['accuracy'])\n",
    "    plt.plot(history.history['val_accuracy'], '')\n",
    "    plt.xlabel(\"Epochs\")\n",
    "    plt.ylabel('Accuracy')\n",
    "    plt.title('Change of Accuracy over Epochs')\n",
    "    plt.legend(['accuracy', 'val_accuracy'])\n",
    "    plt.show()\n",
    "\n",
    "    plt.plot(history.history['loss'])\n",
    "    plt.plot(history.history['val_loss'], '')\n",
    "    plt.xlabel(\"Epochs\")\n",
    "    plt.ylabel('loss')\n",
    "    plt.title('Change of loss over Epochs')\n",
    "    plt.legend(['loss', 'val_loss'])\n",
    "    plt.show()"
   ]
  },
  {
   "cell_type": "code",
   "execution_count": 4,
   "metadata": {},
   "outputs": [
    {
     "name": "stdout",
     "output_type": "stream",
     "text": [
      "Model: \"sequential\"\n",
      "_________________________________________________________________\n",
      "Layer (type)                 Output Shape              Param #   \n",
      "=================================================================\n",
      "embedding (Embedding)        (None, 200, 150)          18637950  \n",
      "_________________________________________________________________\n",
      "bidirectional (Bidirectional (None, 256)               285696    \n",
      "_________________________________________________________________\n",
      "dense (Dense)                (None, 64)                16448     \n",
      "_________________________________________________________________\n",
      "dense_1 (Dense)              (None, 1)                 65        \n",
      "=================================================================\n",
      "Total params: 18,940,159\n",
      "Trainable params: 18,940,159\n",
      "Non-trainable params: 0\n",
      "_________________________________________________________________\n"
     ]
    }
   ],
   "source": [
    "model = tf.keras.models.load_model('model1.h5')\n",
    "model.summary()"
   ]
  },
  {
   "cell_type": "code",
   "execution_count": null,
   "metadata": {},
   "outputs": [],
   "source": []
  }
 ],
 "metadata": {
  "kernelspec": {
   "display_name": "Python 3",
   "language": "python",
   "name": "python3"
  },
  "language_info": {
   "codemirror_mode": {
    "name": "ipython",
    "version": 3
   },
   "file_extension": ".py",
   "mimetype": "text/x-python",
   "name": "python",
   "nbconvert_exporter": "python",
   "pygments_lexer": "ipython3",
   "version": "3.7.7"
  }
 },
 "nbformat": 4,
 "nbformat_minor": 4
}
